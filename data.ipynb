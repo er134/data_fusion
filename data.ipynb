{
 "cells": [
  {
   "cell_type": "code",
   "execution_count": null,
   "metadata": {},
   "outputs": [],
   "source": [
    "import os\n",
    "import glob\n",
    "from pathlib import Path\n",
    "\n",
    "import cv2\n",
    "import numpy as np\n",
    "from osgeo import gdal\n",
    "from osgeo.gdal import Dataset\n",
    "from torch import torch\n",
    "import torchvision.transforms as tf"
   ]
  },
  {
   "cell_type": "code",
   "execution_count": null,
   "metadata": {},
   "outputs": [],
   "source": [
    "from data import WaterTrainDataSet\n",
    "from data_process import npy_sar_class"
   ]
  },
  {
   "cell_type": "code",
   "execution_count": 12,
   "metadata": {},
   "outputs": [],
   "source": [
    "mean = [6.99297937, 5.50701671]\n",
    "std = [1.00755637, 0.98871325]\n",
    "compose = tf.Compose([tf.Normalize(mean, std, inplace=True)])\n",
    "dp = lambda image:npy_sar_class(image, 10, compose)\n",
    "dataset = WaterTrainDataSet(r'./data/npy/', dp, augment=False)"
   ]
  },
  {
   "cell_type": "markdown",
   "metadata": {},
   "source": [
    "正负样本比例\n",
    "$\\frac{29,604,939}{427,556,864}$"
   ]
  },
  {
   "cell_type": "code",
   "execution_count": 31,
   "metadata": {},
   "outputs": [],
   "source": [
    "one_num = 0\n",
    "for data in dataset:\n",
    "    label = data['label'].squeeze(0)\n",
    "    label = torch.from_numpy(cv2.resize(label.numpy(), (256,256))).unsqueeze(0).unsqueeze(0)\n",
    "    label = torch.nn.functional.interpolate(label, scale_factor=2, mode='nearest').squeeze(0)\n",
    "    name = data['name']\n",
    "    cv2.imwrite(f'data/npy/resize/{name}.png', label.squeeze(0).numpy()*255)"
   ]
  },
  {
   "cell_type": "code",
   "execution_count": null,
   "metadata": {},
   "outputs": [],
   "source": [
    "print(427556864*0.2189)\n",
    "print(29604939*0.0541)"
   ]
  },
  {
   "cell_type": "code",
   "execution_count": null,
   "metadata": {},
   "outputs": [],
   "source": [
    "from data_process import npy_all_classify_process\n",
    "\n",
    "\n",
    "r = npy_all_classify_process('Track1/train/images/2.tif', mean, std)"
   ]
  }
 ],
 "metadata": {
  "kernelspec": {
   "display_name": "FastSAM",
   "language": "python",
   "name": "python3"
  },
  "language_info": {
   "codemirror_mode": {
    "name": "ipython",
    "version": 3
   },
   "file_extension": ".py",
   "mimetype": "text/x-python",
   "name": "python",
   "nbconvert_exporter": "python",
   "pygments_lexer": "ipython3",
   "version": "3.10.13"
  }
 },
 "nbformat": 4,
 "nbformat_minor": 2
}
