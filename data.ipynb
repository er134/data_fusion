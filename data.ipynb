{
 "cells": [
  {
   "cell_type": "code",
   "execution_count": 1,
   "metadata": {},
   "outputs": [],
   "source": [
    "import os\n",
    "import glob\n",
    "from pathlib import Path\n",
    "\n",
    "import cv2\n",
    "import numpy as np\n",
    "from osgeo import gdal\n",
    "from osgeo.gdal import Dataset\n",
    "from torch import torch\n",
    "import torchvision.transforms as tf"
   ]
  },
  {
   "cell_type": "code",
   "execution_count": 2,
   "metadata": {},
   "outputs": [],
   "source": [
    "from data import WaterTrainDataSet\n",
    "from data_process import npy_only_sar"
   ]
  },
  {
   "cell_type": "code",
   "execution_count": 3,
   "metadata": {},
   "outputs": [],
   "source": [
    "mean = [6.99297937, 5.50701671]\n",
    "std = [1.00755637, 0.98871325]\n",
    "compose = tf.Compose([tf.Normalize(mean, std, inplace=True)])\n",
    "dp = lambda image:npy_only_sar(image, compose)\n",
    "dataset = WaterTrainDataSet(r'./data/npy/', dp)"
   ]
  },
  {
   "cell_type": "markdown",
   "metadata": {},
   "source": [
    "正负样本比例\n",
    "$\\frac{29,604,939}{427,556,864}$"
   ]
  },
  {
   "cell_type": "code",
   "execution_count": null,
   "metadata": {},
   "outputs": [],
   "source": [
    "one_num = 0\n",
    "for data in dataset:\n",
    "    label = data['label']\n",
    "    one_num += np.count_nonzero(label==1)"
   ]
  },
  {
   "cell_type": "code",
   "execution_count": 2,
   "metadata": {},
   "outputs": [
    {
     "name": "stdout",
     "output_type": "stream",
     "text": [
      "93592197.52960001\n",
      "1601627.1999000001\n"
     ]
    }
   ],
   "source": [
    "print(427556864*0.2189)\n",
    "print(29604939*0.0541)"
   ]
  },
  {
   "cell_type": "code",
   "execution_count": 4,
   "metadata": {},
   "outputs": [
    {
     "ename": "TypeError",
     "evalue": "in method 'DEMProcessingInternal', argument 2 of type 'GDALDatasetShadow *'",
     "output_type": "error",
     "traceback": [
      "\u001b[1;31m---------------------------------------------------------------------------\u001b[0m",
      "\u001b[1;31mTypeError\u001b[0m                                 Traceback (most recent call last)",
      "Cell \u001b[1;32mIn[4], line 4\u001b[0m\n\u001b[0;32m      1\u001b[0m \u001b[38;5;28;01mfrom\u001b[39;00m \u001b[38;5;21;01mdata_process\u001b[39;00m \u001b[38;5;28;01mimport\u001b[39;00m npy_all_classify_process\n\u001b[1;32m----> 4\u001b[0m r \u001b[38;5;241m=\u001b[39m \u001b[43mnpy_all_classify_process\u001b[49m\u001b[43m(\u001b[49m\u001b[38;5;124;43m'\u001b[39;49m\u001b[38;5;124;43mTrack1/train/images/2.tif\u001b[39;49m\u001b[38;5;124;43m'\u001b[39;49m\u001b[43m,\u001b[49m\u001b[43m \u001b[49m\u001b[43mmean\u001b[49m\u001b[43m,\u001b[49m\u001b[43m \u001b[49m\u001b[43mstd\u001b[49m\u001b[43m)\u001b[49m\n",
      "File \u001b[1;32me:\\data_fusion\\data_process.py:60\u001b[0m, in \u001b[0;36mnpy_all_classify_process\u001b[1;34m(image_path, mean, std)\u001b[0m\n\u001b[0;32m     58\u001b[0m data \u001b[38;5;241m=\u001b[39m np\u001b[38;5;241m.\u001b[39mlog(data\u001b[38;5;241m+\u001b[39m\u001b[38;5;241m1\u001b[39m)\n\u001b[0;32m     59\u001b[0m dem_data \u001b[38;5;241m=\u001b[39m image\u001b[38;5;241m.\u001b[39mGetRasterBand(\u001b[38;5;241m3\u001b[39m)\n\u001b[1;32m---> 60\u001b[0m dem_data_rough \u001b[38;5;241m=\u001b[39m \u001b[43mgdal\u001b[49m\u001b[38;5;241;43m.\u001b[39;49m\u001b[43mDEMProcessingInternal\u001b[49m\u001b[43m(\u001b[49m\u001b[38;5;124;43m'\u001b[39;49m\u001b[38;5;124;43m'\u001b[39;49m\u001b[43m,\u001b[49m\u001b[43m \u001b[49m\u001b[43mdem_data\u001b[49m\u001b[43m,\u001b[49m\u001b[43m \u001b[49m\u001b[38;5;124;43m'\u001b[39;49m\u001b[38;5;124;43mRoughness\u001b[39;49m\u001b[38;5;124;43m'\u001b[39;49m\u001b[43m,\u001b[49m\u001b[43m \u001b[49m\u001b[38;5;124;43m'\u001b[39;49m\u001b[38;5;124;43m'\u001b[39;49m\u001b[43m,\u001b[49m\u001b[43m \u001b[49m\u001b[38;5;28;43;01mNone\u001b[39;49;00m\u001b[43m)\u001b[49m\n\u001b[0;32m     61\u001b[0m \u001b[38;5;28;01mreturn\u001b[39;00m dem_data_rough\n",
      "File \u001b[1;32mc:\\Users\\Administrator\\scoop\\apps\\anaconda3\\current\\App\\envs\\FastSAM\\lib\\site-packages\\osgeo\\gdal.py:6148\u001b[0m, in \u001b[0;36mDEMProcessingInternal\u001b[1;34m(*args)\u001b[0m\n\u001b[0;32m   6146\u001b[0m \u001b[38;5;28;01mdef\u001b[39;00m \u001b[38;5;21mDEMProcessingInternal\u001b[39m(\u001b[38;5;241m*\u001b[39margs):\n\u001b[0;32m   6147\u001b[0m \u001b[38;5;250m    \u001b[39m\u001b[38;5;124mr\u001b[39m\u001b[38;5;124;03m\"\"\"DEMProcessingInternal(char const * dest, Dataset dataset, char const * pszProcessing, char const * pszColorFilename, GDALDEMProcessingOptions options, GDALProgressFunc callback=0, void * callback_data=None) -> Dataset\"\"\"\u001b[39;00m\n\u001b[1;32m-> 6148\u001b[0m     \u001b[38;5;28;01mreturn\u001b[39;00m \u001b[43m_gdal\u001b[49m\u001b[38;5;241;43m.\u001b[39;49m\u001b[43mDEMProcessingInternal\u001b[49m\u001b[43m(\u001b[49m\u001b[38;5;241;43m*\u001b[39;49m\u001b[43margs\u001b[49m\u001b[43m)\u001b[49m\n",
      "\u001b[1;31mTypeError\u001b[0m: in method 'DEMProcessingInternal', argument 2 of type 'GDALDatasetShadow *'"
     ]
    }
   ],
   "source": [
    "from data_process import npy_all_classify_process\n",
    "\n",
    "\n",
    "r = npy_all_classify_process('Track1/train/images/2.tif', mean, std)"
   ]
  }
 ],
 "metadata": {
  "kernelspec": {
   "display_name": "FastSAM",
   "language": "python",
   "name": "python3"
  },
  "language_info": {
   "codemirror_mode": {
    "name": "ipython",
    "version": 3
   },
   "file_extension": ".py",
   "mimetype": "text/x-python",
   "name": "python",
   "nbconvert_exporter": "python",
   "pygments_lexer": "ipython3",
   "version": "3.9.17"
  }
 },
 "nbformat": 4,
 "nbformat_minor": 2
}
